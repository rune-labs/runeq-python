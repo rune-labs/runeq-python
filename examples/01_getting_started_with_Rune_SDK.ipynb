{
 "cells": [
  {
   "cell_type": "markdown",
   "id": "e21a693c-9a24-4349-a208-27b9800592ef",
   "metadata": {
    "tags": []
   },
   "source": [
    "# Getting Started with the Rune Labs API/SDK\n",
    "\n",
    "The Rune Labs application programming interface (API) provides access to deidentified data from our database. (This data cannot be used to identify an individual \"patient.\")\n",
    "\n",
    "This data is acquired from a growing number of sources, including:\n",
    "* The StrivePD app for the iPhone and Apple Watch\n",
    "* Apple's movement disorder kit (MM4PD, tremor and dyskinesia metrics)\n",
    "* Apple's Health ecosystem\n",
    "* Deep brain stimulation devices, such as the Medtronic Percept PC+S\n",
    "* etc.\n",
    "\n",
    "The Rune Labs software development kit (SDK) is a set of tools intended to simplify usage of our API. These tools are currently available in the Python programming language.\n",
    "\n",
    "For detailed information:\n",
    "* [Rune Labs API documentation](https://docs.runelabs.io)\n",
    "* [Rune Labs SDK documentation](https://runeq.readthedocs.io/en/latest/)\n",
    "* [Rune Labs open source code respository](https://github.com/rune-labs/runeq-python/tree/main/examples) (which includes this notebook)"
   ]
  },
  {
   "cell_type": "markdown",
   "id": "ffb397cc-ed21-4959-8f2b-2aaa526a5e21",
   "metadata": {},
   "source": [
    "---\n",
    "\n",
    "## Set Up\n",
    "\n",
    "### 1. Install the Rune SDK\n",
    "\n",
    "Once you have a functioning Python environment set up ([instructions here](00_python_installation_instructions.md)), you can install the Rune SDK (`runeq`) with the following command in the console:\n",
    "\n",
    "`pip install runeq`\n",
    "\n",
    "If you previously used an earlier version of the SDK, you may need to update by running the following command in the console:\n",
    "\n",
    "`pip install --upgrade runeq`\n",
    "\n",
    "### 2. Initialize the Rune SDK with your platform credentials\n",
    "\n",
    "See the SDK quickstart guide for instructions on setting up user access tokens: https://runeq.readthedocs.io/en/latest/pages/quickstart.html\n",
    "\n",
    "Note: This requires an active user account on the Rune platform, with access to at least one organization.\n",
    "\n",
    "Once these credentials are in place, the library can be initialized.\n",
    "\n",
    "`initialize()` initializes the library with the specified configuration options. Use one of the following:\n",
    "\n",
    "* **Load the default config file (~/.rune/config)**\n",
    "    * `initialize()`\n",
    "* **Load values from a YAML file at a specified path**\n",
    "    * `initialize('./example_config.yaml')`\n",
    "* **Set configuration values using keyword arguments (instead of a file)**\n",
    "    * This can be used with any valid combination of config options (e.g. with an access token OR a client key).\n",
    "    * `initialize(access_token_id='foo', access_token_secret='bar')`\n",
    "    * `initialize(client_key_id='foo', client_access_key='bar')`"
   ]
  },
  {
   "cell_type": "code",
   "execution_count": 1,
   "id": "42dfc600-050d-46ae-bd85-65c6b1fa58ea",
   "metadata": {},
   "outputs": [],
   "source": [
    "# Initialize the SDK.\n",
    "from runeq import initialize\n",
    "\n",
    "initialize()"
   ]
  },
  {
   "cell_type": "markdown",
   "id": "1bdeafbf-1a23-4aa0-8e0b-ec2d55d01e48",
   "metadata": {},
   "source": [
    "---\n",
    "\n",
    "## Confirm Successful Set Up\n",
    "\n",
    "To confirm that you have successfully installed the `runeq` SDK, configured your access credentials, and initialized the SDK in your current script or notebook, pull your own information using the `get_current_user()` function."
   ]
  },
  {
   "cell_type": "code",
   "execution_count": 2,
   "id": "5ba7132f-916c-48c7-89d5-82855cfbd061",
   "metadata": {},
   "outputs": [
    {
     "name": "stdout",
     "output_type": "stream",
     "text": [
      "User(id=\"user-b9c372f2b315a6c6cfd9b5ef7eba81e5ef7866d1,user\", name=\"Gavin Philips\")\n"
     ]
    }
   ],
   "source": [
    "# Get the ID and name of the current user, based on API credentials.\n",
    "from runeq.resources.user import get_current_user\n",
    "\n",
    "my_user = get_current_user()\n",
    "print(my_user)"
   ]
  },
  {
   "cell_type": "markdown",
   "id": "b893d86b-36ab-423e-a3a1-ff76976543cb",
   "metadata": {},
   "source": [
    "If the above command ran successfully, and you see your user ID and name, you're ready to begin exploring data in the next tutorial: [Exploring Organizations and Patients](02_exploring_organizations_and_patients.ipynb)."
   ]
  }
 ],
 "metadata": {
  "kernelspec": {
   "display_name": "Python 3 (ipykernel)",
   "language": "python",
   "name": "python3"
  },
  "language_info": {
   "codemirror_mode": {
    "name": "ipython",
    "version": 3
   },
   "file_extension": ".py",
   "mimetype": "text/x-python",
   "name": "python",
   "nbconvert_exporter": "python",
   "pygments_lexer": "ipython3",
   "version": "3.8.12"
  }
 },
 "nbformat": 4,
 "nbformat_minor": 5
}
