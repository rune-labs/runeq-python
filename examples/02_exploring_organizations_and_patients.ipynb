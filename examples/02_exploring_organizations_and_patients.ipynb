{
 "cells": [
  {
   "cell_type": "markdown",
   "id": "e21a693c-9a24-4349-a208-27b9800592ef",
   "metadata": {
    "tags": []
   },
   "source": [
    "# Exploring Organizations and Patients with the Rune Labs API/SDK\n",
    "\n",
    "This tutorial demonstrates the basic steps of exploring organizations and patients using the Rune Labs API/SDK.\n",
    "\n",
    "This tutorial follows: [Getting Started with the Rune Labs API/SDK](01_getting_started_with_Rune_SDK.ipynb).\n",
    "\n",
    "For detailed information:\n",
    "* [Rune Labs API documentation](https://docs.runelabs.io/stream/v2/)\n",
    "* [Rune Labs SDK documentation](https://runeq.readthedocs.io/en/latest/)\n",
    "* [Rune Labs open source code respository](https://github.com/rune-labs/runeq-python/tree/main/examples) (which includes this notebook)"
   ]
  },
  {
   "cell_type": "markdown",
   "id": "ffb397cc-ed21-4959-8f2b-2aaa526a5e21",
   "metadata": {},
   "source": [
    "---\n",
    "\n",
    "## Set Up\n",
    "\n",
    "Initialize the Rune SDK with your platform credentials, as described previously: [Getting Started with the Rune Labs API/SDK](01_getting_started_with_Rune_SDK.ipynb)"
   ]
  },
  {
   "cell_type": "code",
   "execution_count": 1,
   "id": "42dfc600-050d-46ae-bd85-65c6b1fa58ea",
   "metadata": {},
   "outputs": [],
   "source": [
    "# Initialize the SDK.\n",
    "from runeq import initialize\n",
    "\n",
    "initialize()"
   ]
  },
  {
   "cell_type": "markdown",
   "id": "1bdeafbf-1a23-4aa0-8e0b-ec2d55d01e48",
   "metadata": {},
   "source": [
    "To confirm that you have successfully initialized the SDK in your current script or notebook, pull your own information using the `get_current_user()` function."
   ]
  },
  {
   "cell_type": "code",
   "execution_count": 2,
   "id": "5ba7132f-916c-48c7-89d5-82855cfbd061",
   "metadata": {},
   "outputs": [
    {
     "name": "stdout",
     "output_type": "stream",
     "text": [
      "User(id=\"user-b9c372f2b315a6c6cfd9b5ef7eba81e5ef7866d1,user\", name=\"Gavin Philips\")\n"
     ]
    }
   ],
   "source": [
    "# Get the ID and name of the current user, based on API credentials.\n",
    "from runeq.resources.user import get_current_user\n",
    "\n",
    "my_user = get_current_user()\n",
    "print(my_user)"
   ]
  },
  {
   "cell_type": "markdown",
   "id": "b893d86b-36ab-423e-a3a1-ff76976543cb",
   "metadata": {},
   "source": [
    "---\n",
    "\n",
    "## Organizations\n",
    "\n",
    "An organization on the Rune Labs platform (often referred to as an \"org\") typically corresponds to a single clinical site, research lab, or commercial partner. It is an entity that includes a set of patients, as well as a number of users (e.g., clinicians, researchers, data scientists, coordinators).\n",
    "\n",
    "A user can set up access credentials to use the Rune Labs API/SDK as described in the [SDK quickstart](https://runeq.readthedocs.io/en/latest/pages/quickstart.html) and demonstrated in [Getting Started with the Rune Labs API/SDK](01_getting_started_with_Rune_SDK.ipynb).\n",
    "\n",
    "Only one org can be accessed at a time: the user's current active org. This org can be selected in the \"Administration\" tab of [StriveStudy](https://study.runelabs.io/), or by clicking the profile icon at the top right in the [StrivePD clinician portal](https://app.runelabs.io/) (or the legacy research portal). However, most users are only members of a single org, so this step is typically unnecessary.\n",
    "\n",
    "To confirm your current active org, print the `active_org_name` of your user (created above using `get_current_user()`)."
   ]
  },
  {
   "cell_type": "code",
   "execution_count": 3,
   "id": "9a712245-bc45-4ea6-ba48-699c268086c2",
   "metadata": {},
   "outputs": [
    {
     "name": "stdout",
     "output_type": "stream",
     "text": [
      "Active Org: Rune Demo\n"
     ]
    }
   ],
   "source": [
    "# Confirm user's current active org.\n",
    "print('Active Org:', my_user.active_org_name)"
   ]
  },
  {
   "cell_type": "markdown",
   "id": "17acdb29-abab-4c34-b232-55bc19f22731",
   "metadata": {},
   "source": [
    "Users who have access to multiple orgs can retrieve a list of all available orgs using the `get_orgs()` function."
   ]
  },
  {
   "cell_type": "code",
   "execution_count": 4,
   "id": "587ffe53-201c-4329-b28c-73a9b620cddc",
   "metadata": {},
   "outputs": [],
   "source": [
    "# Get list of user's available orgs.\n",
    "from runeq.resources.org import get_orgs\n",
    "\n",
    "my_orgs = get_orgs()"
   ]
  },
  {
   "cell_type": "markdown",
   "id": "f44c5caa-ead8-40bf-b295-f26ed8e62e2c",
   "metadata": {},
   "source": [
    "Note: The org list is not displayed here for privacy."
   ]
  },
  {
   "cell_type": "markdown",
   "id": "f6b4e178-b30b-4f68-a819-e060565b7881",
   "metadata": {},
   "source": [
    "---\n",
    "\n",
    "## Patients\n",
    "\n",
    "To retrieve a list of all patients accessible in the current active org, use the `get_all_patients()` function, which returns a [PatientSet](https://runeq.readthedocs.io/en/latest/pages/resources.html#runeq.resources.patient.PatientSet) object."
   ]
  },
  {
   "cell_type": "code",
   "execution_count": 5,
   "id": "6d26563b-4b37-4acd-8e11-4db4758f173f",
   "metadata": {},
   "outputs": [
    {
     "name": "stdout",
     "output_type": "stream",
     "text": [
      "PatientSet {\n",
      "\tPatient(id=\"637c548a3c3c4e92ae46e4098df0f8d0\", name=\"William IRL\")\n",
      "\tPatient(id=\"6646163241244855a5ee43dce832f514\", name=\"Patient PKHIX\")\n",
      "\tPatient(id=\"9ea782f28b944c81a08363b3a48dfedb\", name=\"Patient TVHFR\")\n",
      "\t... (and 10 others)\n",
      "}\n"
     ]
    }
   ],
   "source": [
    "# Get a list of all available patients.\n",
    "from runeq.resources.patient import get_all_patients\n",
    "\n",
    "patients = get_all_patients()\n",
    "print(patients)"
   ]
  },
  {
   "cell_type": "markdown",
   "id": "a4be1e96-b4c3-48ad-98c3-d768c581eb69",
   "metadata": {},
   "source": [
    "A [PatientSet](https://runeq.readthedocs.io/en/latest/pages/resources.html#runeq.resources.patient.PatientSet) object has a number of properties and functions. As a set of [Patient](https://runeq.readthedocs.io/en/latest/pages/resources.html#runeq.resources.patient.Patient) objects, it can be iterated over to access each patient individually. Patients can also be added to, or removed from a set."
   ]
  },
  {
   "cell_type": "code",
   "execution_count": 6,
   "id": "1c401880-cd1d-4390-8f5b-3697663a1543",
   "metadata": {},
   "outputs": [
    {
     "name": "stdout",
     "output_type": "stream",
     "text": [
      "William IRL\n",
      "Patient PKHIX\n",
      "Patient TVHFR\n",
      "Patient 3S5FZ\n",
      "Patient 2LQE7\n",
      "Patient XBTCX\n",
      "Patient LG9M8\n",
      "Patient Q1F3I\n",
      "Gavin\n",
      "Abhinav-Test\n",
      "Patient 9N4XH\n",
      "Patient M5E9H\n",
      "Patient QQEWS\n"
     ]
    }
   ],
   "source": [
    "# Iterate over a PatientSet and print the code name of each patient.\n",
    "for patient in patients:\n",
    "    print(patient.name)"
   ]
  },
  {
   "cell_type": "markdown",
   "id": "6bc7004c-6b64-49eb-a6cf-8b3929b0c088",
   "metadata": {},
   "source": [
    "It may be more convenient to display or manipulate a set of patient data as a Pandas dataframe, which can be easily created using the `to_dataframe()` function of the PatientSet object."
   ]
  },
  {
   "cell_type": "code",
   "execution_count": 7,
   "id": "48e7dadb-4931-49f6-8df2-ff3aea878402",
   "metadata": {},
   "outputs": [
    {
     "data": {
      "text/html": [
       "<div>\n",
       "<style scoped>\n",
       "    .dataframe tbody tr th:only-of-type {\n",
       "        vertical-align: middle;\n",
       "    }\n",
       "\n",
       "    .dataframe tbody tr th {\n",
       "        vertical-align: top;\n",
       "    }\n",
       "\n",
       "    .dataframe thead th {\n",
       "        text-align: right;\n",
       "    }\n",
       "</style>\n",
       "<table border=\"1\" class=\"dataframe\">\n",
       "  <thead>\n",
       "    <tr style=\"text-align: right;\">\n",
       "      <th></th>\n",
       "      <th>name</th>\n",
       "      <th>created_at</th>\n",
       "      <th>devices</th>\n",
       "      <th>id</th>\n",
       "    </tr>\n",
       "  </thead>\n",
       "  <tbody>\n",
       "    <tr>\n",
       "      <th>0</th>\n",
       "      <td>William IRL</td>\n",
       "      <td>1.634745e+09</td>\n",
       "      <td>[{'patient_id': '637c548a3c3c4e92ae46e4098df0f...</td>\n",
       "      <td>637c548a3c3c4e92ae46e4098df0f8d0</td>\n",
       "    </tr>\n",
       "    <tr>\n",
       "      <th>1</th>\n",
       "      <td>Patient PKHIX</td>\n",
       "      <td>1.696261e+09</td>\n",
       "      <td>[{'patient_id': '6646163241244855a5ee43dce832f...</td>\n",
       "      <td>6646163241244855a5ee43dce832f514</td>\n",
       "    </tr>\n",
       "    <tr>\n",
       "      <th>2</th>\n",
       "      <td>Patient TVHFR</td>\n",
       "      <td>1.696261e+09</td>\n",
       "      <td>[{'patient_id': '9ea782f28b944c81a08363b3a48df...</td>\n",
       "      <td>9ea782f28b944c81a08363b3a48dfedb</td>\n",
       "    </tr>\n",
       "    <tr>\n",
       "      <th>3</th>\n",
       "      <td>Patient 3S5FZ</td>\n",
       "      <td>1.696260e+09</td>\n",
       "      <td>[{'patient_id': 'b98f2faf86d54c2ebb04d726e5d60...</td>\n",
       "      <td>b98f2faf86d54c2ebb04d726e5d60e26</td>\n",
       "    </tr>\n",
       "    <tr>\n",
       "      <th>4</th>\n",
       "      <td>Patient 2LQE7</td>\n",
       "      <td>1.696261e+09</td>\n",
       "      <td>[{'patient_id': '03127051ee964420b3fe62fec8237...</td>\n",
       "      <td>03127051ee964420b3fe62fec8237f47</td>\n",
       "    </tr>\n",
       "    <tr>\n",
       "      <th>5</th>\n",
       "      <td>Patient XBTCX</td>\n",
       "      <td>1.696260e+09</td>\n",
       "      <td>[{'patient_id': '2878047601724564a12335215d439...</td>\n",
       "      <td>2878047601724564a12335215d4397a7</td>\n",
       "    </tr>\n",
       "    <tr>\n",
       "      <th>6</th>\n",
       "      <td>Patient LG9M8</td>\n",
       "      <td>1.696260e+09</td>\n",
       "      <td>[{'patient_id': '2993854cf3d94150a16d65d1029ef...</td>\n",
       "      <td>2993854cf3d94150a16d65d1029efe04</td>\n",
       "    </tr>\n",
       "    <tr>\n",
       "      <th>7</th>\n",
       "      <td>Patient Q1F3I</td>\n",
       "      <td>1.696261e+09</td>\n",
       "      <td>[{'patient_id': '3600fab94d324946958fba2c48554...</td>\n",
       "      <td>3600fab94d324946958fba2c48554814</td>\n",
       "    </tr>\n",
       "    <tr>\n",
       "      <th>8</th>\n",
       "      <td>Gavin</td>\n",
       "      <td>1.606786e+09</td>\n",
       "      <td>[{'patient_id': 'c118dbfff9644fbb83e5fe1982d45...</td>\n",
       "      <td>c118dbfff9644fbb83e5fe1982d4534c</td>\n",
       "    </tr>\n",
       "    <tr>\n",
       "      <th>9</th>\n",
       "      <td>Abhinav-Test</td>\n",
       "      <td>1.652994e+09</td>\n",
       "      <td>[{'patient_id': 'e3dd146f74714135a11128e99f155...</td>\n",
       "      <td>e3dd146f74714135a11128e99f1557f0</td>\n",
       "    </tr>\n",
       "    <tr>\n",
       "      <th>10</th>\n",
       "      <td>Patient 9N4XH</td>\n",
       "      <td>1.696260e+09</td>\n",
       "      <td>[{'patient_id': '67593172b4a5419cbd08c91fbeb93...</td>\n",
       "      <td>67593172b4a5419cbd08c91fbeb93f14</td>\n",
       "    </tr>\n",
       "    <tr>\n",
       "      <th>11</th>\n",
       "      <td>Patient M5E9H</td>\n",
       "      <td>1.696260e+09</td>\n",
       "      <td>[{'patient_id': '7af9372678e4432e94bfbff06badc...</td>\n",
       "      <td>7af9372678e4432e94bfbff06badc210</td>\n",
       "    </tr>\n",
       "    <tr>\n",
       "      <th>12</th>\n",
       "      <td>Patient QQEWS</td>\n",
       "      <td>1.696263e+09</td>\n",
       "      <td>[{'patient_id': 'f44f6d0aa4f846d683d4cd75d94a8...</td>\n",
       "      <td>f44f6d0aa4f846d683d4cd75d94a83f4</td>\n",
       "    </tr>\n",
       "  </tbody>\n",
       "</table>\n",
       "</div>"
      ],
      "text/plain": [
       "             name    created_at  \\\n",
       "0     William IRL  1.634745e+09   \n",
       "1   Patient PKHIX  1.696261e+09   \n",
       "2   Patient TVHFR  1.696261e+09   \n",
       "3   Patient 3S5FZ  1.696260e+09   \n",
       "4   Patient 2LQE7  1.696261e+09   \n",
       "5   Patient XBTCX  1.696260e+09   \n",
       "6   Patient LG9M8  1.696260e+09   \n",
       "7   Patient Q1F3I  1.696261e+09   \n",
       "8           Gavin  1.606786e+09   \n",
       "9    Abhinav-Test  1.652994e+09   \n",
       "10  Patient 9N4XH  1.696260e+09   \n",
       "11  Patient M5E9H  1.696260e+09   \n",
       "12  Patient QQEWS  1.696263e+09   \n",
       "\n",
       "                                              devices  \\\n",
       "0   [{'patient_id': '637c548a3c3c4e92ae46e4098df0f...   \n",
       "1   [{'patient_id': '6646163241244855a5ee43dce832f...   \n",
       "2   [{'patient_id': '9ea782f28b944c81a08363b3a48df...   \n",
       "3   [{'patient_id': 'b98f2faf86d54c2ebb04d726e5d60...   \n",
       "4   [{'patient_id': '03127051ee964420b3fe62fec8237...   \n",
       "5   [{'patient_id': '2878047601724564a12335215d439...   \n",
       "6   [{'patient_id': '2993854cf3d94150a16d65d1029ef...   \n",
       "7   [{'patient_id': '3600fab94d324946958fba2c48554...   \n",
       "8   [{'patient_id': 'c118dbfff9644fbb83e5fe1982d45...   \n",
       "9   [{'patient_id': 'e3dd146f74714135a11128e99f155...   \n",
       "10  [{'patient_id': '67593172b4a5419cbd08c91fbeb93...   \n",
       "11  [{'patient_id': '7af9372678e4432e94bfbff06badc...   \n",
       "12  [{'patient_id': 'f44f6d0aa4f846d683d4cd75d94a8...   \n",
       "\n",
       "                                  id  \n",
       "0   637c548a3c3c4e92ae46e4098df0f8d0  \n",
       "1   6646163241244855a5ee43dce832f514  \n",
       "2   9ea782f28b944c81a08363b3a48dfedb  \n",
       "3   b98f2faf86d54c2ebb04d726e5d60e26  \n",
       "4   03127051ee964420b3fe62fec8237f47  \n",
       "5   2878047601724564a12335215d4397a7  \n",
       "6   2993854cf3d94150a16d65d1029efe04  \n",
       "7   3600fab94d324946958fba2c48554814  \n",
       "8   c118dbfff9644fbb83e5fe1982d4534c  \n",
       "9   e3dd146f74714135a11128e99f1557f0  \n",
       "10  67593172b4a5419cbd08c91fbeb93f14  \n",
       "11  7af9372678e4432e94bfbff06badc210  \n",
       "12  f44f6d0aa4f846d683d4cd75d94a83f4  "
      ]
     },
     "execution_count": 7,
     "metadata": {},
     "output_type": "execute_result"
    }
   ],
   "source": [
    "# Convert a PatientSet into a Pandas dataframe using the to_dataframe() function, and display.\n",
    "import pandas as pd\n",
    "\n",
    "patients_df = patients.to_dataframe()\n",
    "patients_df"
   ]
  },
  {
   "cell_type": "markdown",
   "id": "870b24b8-7823-4a62-8b91-847e979514df",
   "metadata": {},
   "source": [
    "Each Patient object includes:\n",
    "* A code name (`name`)\n",
    "    * should not include any identifiable information - those shown here are not real patients\n",
    "* A unique identifier (`id`)\n",
    "    * synonymous with `patient_id`\n",
    "* A timestamp representing the creation of the patient record (`created_at`)\n",
    "    * typically the creation of the patient's StrivePD mobile account\n",
    "* A collection of associated devices (`devices`)\n",
    "\n",
    "**For subsequent tutorials:** Select a patient from your org and copy their `id` (`patient_id`), to paste into subsequent tutorial notebooks.\n",
    "\n",
    "We will explore these devices in the next tutorial: [Exploring Patient Devices](03_exploring_patient_devices.ipynb)."
   ]
  }
 ],
 "metadata": {
  "kernelspec": {
   "display_name": "Python 3 (ipykernel)",
   "language": "python",
   "name": "python3"
  },
  "language_info": {
   "codemirror_mode": {
    "name": "ipython",
    "version": 3
   },
   "file_extension": ".py",
   "mimetype": "text/x-python",
   "name": "python",
   "nbconvert_exporter": "python",
   "pygments_lexer": "ipython3",
   "version": "3.8.12"
  }
 },
 "nbformat": 4,
 "nbformat_minor": 5
}
