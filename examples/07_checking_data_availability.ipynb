{
 "cells": [
  {
   "cell_type": "markdown",
   "id": "e21a693c-9a24-4349-a208-27b9800592ef",
   "metadata": {
    "tags": []
   },
   "source": [
    "# Checking Data Availability with the Rune Labs API/SDK\n",
    "\n",
    "This tutorial demonstrates how to check data availability using \"availability\" representations with the Rune Labs API/SDK. This is done using stream metadata (or stream IDs), which is explained in [a previous tutorial](04_querying_stream_metadata.ipynb).\n",
    "\n",
    "This tutorial follows: [Understanding Types of Data Streams Used by the Rune Labs API/SDK](06_stream_types.ipynb).\n",
    "\n",
    "For detailed information:\n",
    "* [Rune Labs API documentation](https://docs.runelabs.io/stream/v2/)\n",
    "* [Rune Labs SDK documentation](https://runeq.readthedocs.io/en/latest/)\n",
    "* [Rune Labs open source code respository](https://github.com/rune-labs/opensource) (which includes this notebook)"
   ]
  },
  {
   "cell_type": "markdown",
   "id": "ffb397cc-ed21-4959-8f2b-2aaa526a5e21",
   "metadata": {},
   "source": [
    "---\n",
    "\n",
    "## Set Up\n",
    "\n",
    "Initialize the Rune SDK with your platform credentials, as described previously: [Getting Started with the Rune Labs API/SDK](01_getting_started_with_Rune_SDK.ipynb)"
   ]
  },
  {
   "cell_type": "code",
   "execution_count": 1,
   "id": "42dfc600-050d-46ae-bd85-65c6b1fa58ea",
   "metadata": {},
   "outputs": [],
   "source": [
    "# Initialize the SDK.\n",
    "from runeq import initialize\n",
    "\n",
    "initialize()"
   ]
  },
  {
   "cell_type": "markdown",
   "id": "1bdeafbf-1a23-4aa0-8e0b-ec2d55d01e48",
   "metadata": {},
   "source": [
    "To confirm that you have successfully initialized the SDK in your current script or notebook, pull your own information using the `get_current_user()` function."
   ]
  },
  {
   "cell_type": "code",
   "execution_count": 2,
   "id": "5ba7132f-916c-48c7-89d5-82855cfbd061",
   "metadata": {},
   "outputs": [
    {
     "name": "stdout",
     "output_type": "stream",
     "text": [
      "User(id=\"user-b9c372f2b315a6c6cfd9b5ef7eba81e5ef7866d1,user\", name=\"Gavin Philips\")\n"
     ]
    }
   ],
   "source": [
    "# Get the ID and name of the current user, based on API credentials.\n",
    "from runeq.resources.user import get_current_user\n",
    "\n",
    "my_user = get_current_user()\n",
    "print(my_user)"
   ]
  },
  {
   "cell_type": "code",
   "execution_count": 3,
   "id": "9a712245-bc45-4ea6-ba48-699c268086c2",
   "metadata": {},
   "outputs": [
    {
     "name": "stdout",
     "output_type": "stream",
     "text": [
      "Active Org: Rune Demo\n"
     ]
    }
   ],
   "source": [
    "# Confirm user's current active org.\n",
    "print('Active Org:', my_user.active_org_name)"
   ]
  },
  {
   "cell_type": "markdown",
   "id": "179cbe45-fc5a-4a1e-a6db-cba96666c6bb",
   "metadata": {},
   "source": [
    "---\n",
    "\n",
    "## Utility Functions\n",
    "\n",
    "Define a utility function, which will be used below to visualize data availability."
   ]
  },
  {
   "cell_type": "code",
   "execution_count": 4,
   "id": "1f9aa5ba-ef0f-4835-a382-a3e688fd626e",
   "metadata": {},
   "outputs": [],
   "source": [
    "import matplotlib.pyplot as plt\n",
    "\n",
    "def plot_availability(availability_df):\n",
    "    \"\"\"\n",
    "    Plot a dataframe of availability data.\n",
    "    \n",
    "    availability_df is a Pandas dataframe, with one 'time' column of ISO 8601 format timestamps,\n",
    "    and at least one column of binary availability data.\n",
    "\n",
    "    \"\"\"\n",
    "    # Copy to avoid modifying original dataframe.\n",
    "    df = availability_df.copy()\n",
    "    \n",
    "    # Convert ISO timestamps to dates.\n",
    "    df.time = pd.to_datetime(df.time).dt.date\n",
    "\n",
    "    # Get a list of streams for axes.\n",
    "    cols = df.columns.tolist()\n",
    "    cols.remove('time')\n",
    "\n",
    "    # Plot the availability streams to visualize overlap.\n",
    "    plt.figure(figsize=(10,3))\n",
    "    plt.imshow(\n",
    "        df[cols].T, \n",
    "        cmap =\"binary\",\n",
    "    );\n",
    "    plt.xticks(range(len(df)), df.time, rotation='vertical')\n",
    "    plt.yticks(range(len(cols)), cols) \n",
    "    plt.show()"
   ]
  },
  {
   "cell_type": "markdown",
   "id": "f6b4e178-b30b-4f68-a819-e060565b7881",
   "metadata": {},
   "source": [
    "---\n",
    "\n",
    "## Patients\n",
    "\n",
    "[Exploring Organizations and Patients with the Rune Labs API/SDK](02_exploring_organizations_and_patients.ipynb) includes instructions to copy a `patient_id` from a patient in your org. Paste that `patient_id` into the cell below.\n",
    "\n",
    "We could also explore stream metadata across all patients in the org, but for simplicity, we'll focus on one in this tutorial."
   ]
  },
  {
   "cell_type": "code",
   "execution_count": 5,
   "id": "45fcd159-c48b-4d01-970a-c7fc07452be9",
   "metadata": {},
   "outputs": [],
   "source": [
    "# Set ID of example patient from your org.\n",
    "patient_id = 'e3dd146f74714135a11128e99f1557f0'"
   ]
  },
  {
   "cell_type": "markdown",
   "id": "7040b584-b86a-4b12-a1cf-37d9244742f8",
   "metadata": {},
   "source": [
    "---\n",
    "\n",
    "## Stream Metadata\n",
    "\n",
    "Finding and accessing data using our API/SDK is a two-step process:\n",
    "1. Query for data streams using a desired set of parameters\n",
    "    * Result: A set of stream metadata, which describes a set of streams\n",
    "2. Use the resulting stream IDs to pull the desired data for a chosen time frame\n",
    "    * Result: Actual data in a chosen format\n",
    "\n",
    "**However**, we can change the second step if we are interested in the *availability* of the data, rather than the data itself:\n",
    "1. Query for data streams using a desired set of parameters\n",
    "    * Result: A set of stream metadata, which describes a set of streams\n",
    "2. Use the resulting stream IDs to pull **a boolean representation of available data**\n",
    "    * Result: One or more boolean streams, with a chosen temporal resolution (bin size), and a constant sampling rate\n",
    "\n",
    "We covered the first step in [a previous tutorial](04_querying_stream_metadata.ipynb), and will continue to the second step here, using the same example.\n",
    "\n",
    "Use the [get_patient_stream_metadata()](https://runeq.readthedocs.io/en/latest/pages/resources.html#runeq.resources.stream_metadata.get_patient_stream_metadata) function to query for the metadata of the desired stream(s):"
   ]
  },
  {
   "cell_type": "code",
   "execution_count": 6,
   "id": "fbf8436b-2b0a-4646-8cda-2943fe334b31",
   "metadata": {},
   "outputs": [
    {
     "data": {
      "text/html": [
       "<div>\n",
       "<style scoped>\n",
       "    .dataframe tbody tr th:only-of-type {\n",
       "        vertical-align: middle;\n",
       "    }\n",
       "\n",
       "    .dataframe tbody tr th {\n",
       "        vertical-align: top;\n",
       "    }\n",
       "\n",
       "    .dataframe thead th {\n",
       "        text-align: right;\n",
       "    }\n",
       "</style>\n",
       "<table border=\"1\" class=\"dataframe\">\n",
       "  <thead>\n",
       "    <tr style=\"text-align: right;\">\n",
       "      <th></th>\n",
       "      <th>created_at</th>\n",
       "      <th>algorithm</th>\n",
       "      <th>device_id</th>\n",
       "      <th>patient_id</th>\n",
       "      <th>stream_type</th>\n",
       "      <th>min_time</th>\n",
       "      <th>max_time</th>\n",
       "      <th>parameters</th>\n",
       "      <th>category</th>\n",
       "      <th>severity</th>\n",
       "      <th>measurement</th>\n",
       "      <th>id</th>\n",
       "    </tr>\n",
       "  </thead>\n",
       "  <tbody>\n",
       "    <tr>\n",
       "      <th>0</th>\n",
       "      <td>1.668829e+09</td>\n",
       "      <td>ingest-strive-applewatch-md.0</td>\n",
       "      <td>LARICRKw</td>\n",
       "      <td>e3dd146f74714135a11128e99f1557f0</td>\n",
       "      <td>{'name': 'Duration', 'description': 'Durations...</td>\n",
       "      <td>1.668225e+09</td>\n",
       "      <td>1.693247e+09</td>\n",
       "      <td>{'category': 'symptom', 'severity': 'all', 'me...</td>\n",
       "      <td>symptom</td>\n",
       "      <td>all</td>\n",
       "      <td>tremor</td>\n",
       "      <td>83257a46c877b96f4c639d2d3961401baf27d50b69f777...</td>\n",
       "    </tr>\n",
       "  </tbody>\n",
       "</table>\n",
       "</div>"
      ],
      "text/plain": [
       "     created_at                      algorithm device_id  \\\n",
       "0  1.668829e+09  ingest-strive-applewatch-md.0  LARICRKw   \n",
       "\n",
       "                         patient_id  \\\n",
       "0  e3dd146f74714135a11128e99f1557f0   \n",
       "\n",
       "                                         stream_type      min_time  \\\n",
       "0  {'name': 'Duration', 'description': 'Durations...  1.668225e+09   \n",
       "\n",
       "       max_time                                         parameters category  \\\n",
       "0  1.693247e+09  {'category': 'symptom', 'severity': 'all', 'me...  symptom   \n",
       "\n",
       "  severity measurement                                                 id  \n",
       "0      all      tremor  83257a46c877b96f4c639d2d3961401baf27d50b69f777...  "
      ]
     },
     "execution_count": 6,
     "metadata": {},
     "output_type": "execute_result"
    }
   ],
   "source": [
    "# Query for the specific desired stream(s).\n",
    "from runeq.resources.stream_metadata import get_patient_stream_metadata\n",
    "import pandas as pd\n",
    "\n",
    "tremor_metadata = get_patient_stream_metadata(patient_id=patient_id, algorithm='ingest-strive-applewatch-md.0', measurement='tremor', severity='all', stream_type_id='duration')\n",
    "tremor_metadata_df = tremor_metadata.to_dataframe()\n",
    "\n",
    "tremor_metadata_df"
   ]
  },
  {
   "cell_type": "markdown",
   "id": "b924406f-725e-401d-9fb3-817ee7bff855",
   "metadata": {},
   "source": [
    "We've narrowed down our query to retrieve the metadata of exactly one stream. Now we can use this metadata to check the availability of the data."
   ]
  },
  {
   "cell_type": "markdown",
   "id": "d2a5a048-5eed-4a2c-a169-47070714b788",
   "metadata": {},
   "source": [
    "---\n",
    "\n",
    "## Data Availability: One Stream\n",
    "\n",
    "When monitoring an ongoing study, or analyzing a data set, it's helpful to know *what* data is available, and *when* it was gathered. These questions can be answered by pulling all of the available data from the API, but for long periods of time or dense streams that may not be an efficient approach. Instead, \"availability\" representations show where data exists, at a desired resolution.\n",
    "\n",
    "For example, while monitoring study compliance, you may want to confirm that a particular type of data has been gathered each day within the last month.\n",
    "\n",
    "To do this, set a resolution of one day, and use the `get_stream_availability_dataframe()` function on the desired stream's `StreamMetadata` object."
   ]
  },
  {
   "cell_type": "code",
   "execution_count": 7,
   "id": "9e845792-7e60-4dac-a3c0-5a60b4b74f01",
   "metadata": {},
   "outputs": [
    {
     "data": {
      "text/plain": [
       "StreamMetadata(id=\"83257a46c877b96f4c639d2d3961401baf27d50b69f777c7eee9aab4413c5e98\")"
      ]
     },
     "execution_count": 7,
     "metadata": {},
     "output_type": "execute_result"
    }
   ],
   "source": [
    "# Get the first stream in the set.\n",
    "tremor_stream = next(iter(tremor_metadata))\n",
    "tremor_stream"
   ]
  },
  {
   "cell_type": "code",
   "execution_count": 8,
   "id": "46608a86-4356-4412-9bd8-11d726e965b6",
   "metadata": {},
   "outputs": [
    {
     "data": {
      "text/html": [
       "<div>\n",
       "<style scoped>\n",
       "    .dataframe tbody tr th:only-of-type {\n",
       "        vertical-align: middle;\n",
       "    }\n",
       "\n",
       "    .dataframe tbody tr th {\n",
       "        vertical-align: top;\n",
       "    }\n",
       "\n",
       "    .dataframe thead th {\n",
       "        text-align: right;\n",
       "    }\n",
       "</style>\n",
       "<table border=\"1\" class=\"dataframe\">\n",
       "  <thead>\n",
       "    <tr style=\"text-align: right;\">\n",
       "      <th></th>\n",
       "      <th>time</th>\n",
       "      <th>availability</th>\n",
       "      <th>stream_id</th>\n",
       "      <th>stream_type_id</th>\n",
       "      <th>patient_id</th>\n",
       "      <th>device_id</th>\n",
       "      <th>algorithm</th>\n",
       "      <th>category</th>\n",
       "      <th>severity</th>\n",
       "      <th>measurement</th>\n",
       "    </tr>\n",
       "  </thead>\n",
       "  <tbody>\n",
       "    <tr>\n",
       "      <th>0</th>\n",
       "      <td>2023-05-01T00:00:00Z</td>\n",
       "      <td>0</td>\n",
       "      <td>83257a46c877b96f4c639d2d3961401baf27d50b69f777...</td>\n",
       "      <td>duration</td>\n",
       "      <td>e3dd146f74714135a11128e99f1557f0</td>\n",
       "      <td>LARICRKw</td>\n",
       "      <td>ingest-strive-applewatch-md.0</td>\n",
       "      <td>symptom</td>\n",
       "      <td>all</td>\n",
       "      <td>tremor</td>\n",
       "    </tr>\n",
       "    <tr>\n",
       "      <th>1</th>\n",
       "      <td>2023-05-02T00:00:00Z</td>\n",
       "      <td>0</td>\n",
       "      <td>83257a46c877b96f4c639d2d3961401baf27d50b69f777...</td>\n",
       "      <td>duration</td>\n",
       "      <td>e3dd146f74714135a11128e99f1557f0</td>\n",
       "      <td>LARICRKw</td>\n",
       "      <td>ingest-strive-applewatch-md.0</td>\n",
       "      <td>symptom</td>\n",
       "      <td>all</td>\n",
       "      <td>tremor</td>\n",
       "    </tr>\n",
       "    <tr>\n",
       "      <th>2</th>\n",
       "      <td>2023-05-03T00:00:00Z</td>\n",
       "      <td>0</td>\n",
       "      <td>83257a46c877b96f4c639d2d3961401baf27d50b69f777...</td>\n",
       "      <td>duration</td>\n",
       "      <td>e3dd146f74714135a11128e99f1557f0</td>\n",
       "      <td>LARICRKw</td>\n",
       "      <td>ingest-strive-applewatch-md.0</td>\n",
       "      <td>symptom</td>\n",
       "      <td>all</td>\n",
       "      <td>tremor</td>\n",
       "    </tr>\n",
       "    <tr>\n",
       "      <th>3</th>\n",
       "      <td>2023-05-04T00:00:00Z</td>\n",
       "      <td>0</td>\n",
       "      <td>83257a46c877b96f4c639d2d3961401baf27d50b69f777...</td>\n",
       "      <td>duration</td>\n",
       "      <td>e3dd146f74714135a11128e99f1557f0</td>\n",
       "      <td>LARICRKw</td>\n",
       "      <td>ingest-strive-applewatch-md.0</td>\n",
       "      <td>symptom</td>\n",
       "      <td>all</td>\n",
       "      <td>tremor</td>\n",
       "    </tr>\n",
       "    <tr>\n",
       "      <th>4</th>\n",
       "      <td>2023-05-05T00:00:00Z</td>\n",
       "      <td>1</td>\n",
       "      <td>83257a46c877b96f4c639d2d3961401baf27d50b69f777...</td>\n",
       "      <td>duration</td>\n",
       "      <td>e3dd146f74714135a11128e99f1557f0</td>\n",
       "      <td>LARICRKw</td>\n",
       "      <td>ingest-strive-applewatch-md.0</td>\n",
       "      <td>symptom</td>\n",
       "      <td>all</td>\n",
       "      <td>tremor</td>\n",
       "    </tr>\n",
       "  </tbody>\n",
       "</table>\n",
       "</div>"
      ],
      "text/plain": [
       "                   time  availability  \\\n",
       "0  2023-05-01T00:00:00Z             0   \n",
       "1  2023-05-02T00:00:00Z             0   \n",
       "2  2023-05-03T00:00:00Z             0   \n",
       "3  2023-05-04T00:00:00Z             0   \n",
       "4  2023-05-05T00:00:00Z             1   \n",
       "\n",
       "                                           stream_id stream_type_id  \\\n",
       "0  83257a46c877b96f4c639d2d3961401baf27d50b69f777...       duration   \n",
       "1  83257a46c877b96f4c639d2d3961401baf27d50b69f777...       duration   \n",
       "2  83257a46c877b96f4c639d2d3961401baf27d50b69f777...       duration   \n",
       "3  83257a46c877b96f4c639d2d3961401baf27d50b69f777...       duration   \n",
       "4  83257a46c877b96f4c639d2d3961401baf27d50b69f777...       duration   \n",
       "\n",
       "                         patient_id device_id                      algorithm  \\\n",
       "0  e3dd146f74714135a11128e99f1557f0  LARICRKw  ingest-strive-applewatch-md.0   \n",
       "1  e3dd146f74714135a11128e99f1557f0  LARICRKw  ingest-strive-applewatch-md.0   \n",
       "2  e3dd146f74714135a11128e99f1557f0  LARICRKw  ingest-strive-applewatch-md.0   \n",
       "3  e3dd146f74714135a11128e99f1557f0  LARICRKw  ingest-strive-applewatch-md.0   \n",
       "4  e3dd146f74714135a11128e99f1557f0  LARICRKw  ingest-strive-applewatch-md.0   \n",
       "\n",
       "  category severity measurement  \n",
       "0  symptom      all      tremor  \n",
       "1  symptom      all      tremor  \n",
       "2  symptom      all      tremor  \n",
       "3  symptom      all      tremor  \n",
       "4  symptom      all      tremor  "
      ]
     },
     "execution_count": 8,
     "metadata": {},
     "output_type": "execute_result"
    }
   ],
   "source": [
    "# Set start and end times as unix timestamps. \n",
    "start_time = 1682899200 # 2023-05-01 (midnight UTC)\n",
    "end_time = 1685577600 # 2023-06-01 (midnight UTC)\n",
    "\n",
    "# Set temporal resolution (bin size) in seconds.\n",
    "resolution = 60 * 60 * 24  # 1 day\n",
    "\n",
    "# Pull the availability representation for the chosen stream.\n",
    "tremor_availability = tremor_stream.get_stream_availability_dataframe(\n",
    "    start_time=start_time,\n",
    "    end_time=end_time,\n",
    "    resolution=resolution,\n",
    ")\n",
    "\n",
    "tremor_availability.head()"
   ]
  },
  {
   "cell_type": "markdown",
   "id": "b02a6d5b-ee30-48e1-970c-f85012026eae",
   "metadata": {},
   "source": [
    "The result includes one sample (row) per day, with a boolean `availability` value for each. A `1` indicates that some data exists for that day, and a `0` indicates that no data is available.\n",
    "\n",
    "We'll use the plotting function defined above to visualize the full time period."
   ]
  },
  {
   "cell_type": "code",
   "execution_count": 9,
   "id": "436f5cbb-5a97-4c12-a869-2d2838a36075",
   "metadata": {},
   "outputs": [
    {
     "data": {
      "image/png": "[encoded data removed]",
      "text/plain": [
       "<Figure size 720x216 with 1 Axes>"
      ]
     },
     "metadata": {
      "needs_background": "light"
     },
     "output_type": "display_data"
    }
   ],
   "source": [
    "# Remove unnecessary columns and plot.\n",
    "tremor_availability = tremor_availability[['time','availability']]\n",
    "plot_availability(tremor_availability)"
   ]
  },
  {
   "cell_type": "markdown",
   "id": "e3f910ea-7dec-4150-99a5-d9a7862c2434",
   "metadata": {},
   "source": [
    "In this example, there is good coverage, but no tremor data on May 1-4, 7-10, and 14-15.\n",
    "\n",
    "**Note:** A `1` indicates that *at least one data point* is available for a chosen day."
   ]
  },
  {
   "cell_type": "markdown",
   "id": "902401f5-91a9-446c-8154-da1a18bb3bdf",
   "metadata": {},
   "source": [
    "### Adjusting resolution\n",
    "\n",
    "The size of time bins can be increased or decreased by adjusting the `resolution` parameter, depending on desired precision vs. efficiency. Resolution can be specified between five minutes (300 seconds) and one day (86400 seconds). ([see the stream availability API documentation](https://docs.runelabs.io/stream/v2/#tag/single-stream/paths/~1streams~1%7Bstream_id%7D~1availability/get))"
   ]
  },
  {
   "cell_type": "markdown",
   "id": "a9c36e12-121b-4cac-82ad-46be95dfdb03",
   "metadata": {},
   "source": [
    "---\n",
    "\n",
    "## Data Availability: Multiple Streams\n",
    "\n",
    "In many situations, there are multiple streams of interest. For example, one might be interested in data from multiple devices, or with multiple combinations of parameters. In such situations, it may be more convenient to use the SDK's \"batch availability\" tools.\n",
    "\n",
    "For example, a patient may have similar streams from different device IDs."
   ]
  },
  {
   "cell_type": "code",
   "execution_count": 10,
   "id": "75e190eb-9af5-4a18-ab0e-398578e5e497",
   "metadata": {},
   "outputs": [
    {
     "data": {
      "text/html": [
       "<div>\n",
       "<style scoped>\n",
       "    .dataframe tbody tr th:only-of-type {\n",
       "        vertical-align: middle;\n",
       "    }\n",
       "\n",
       "    .dataframe tbody tr th {\n",
       "        vertical-align: top;\n",
       "    }\n",
       "\n",
       "    .dataframe thead th {\n",
       "        text-align: right;\n",
       "    }\n",
       "</style>\n",
       "<table border=\"1\" class=\"dataframe\">\n",
       "  <thead>\n",
       "    <tr style=\"text-align: right;\">\n",
       "      <th></th>\n",
       "      <th>created_at</th>\n",
       "      <th>algorithm</th>\n",
       "      <th>device_id</th>\n",
       "      <th>patient_id</th>\n",
       "      <th>stream_type</th>\n",
       "      <th>min_time</th>\n",
       "      <th>max_time</th>\n",
       "      <th>parameters</th>\n",
       "      <th>category</th>\n",
       "      <th>severity</th>\n",
       "      <th>measurement</th>\n",
       "      <th>id</th>\n",
       "    </tr>\n",
       "  </thead>\n",
       "  <tbody>\n",
       "    <tr>\n",
       "      <th>0</th>\n",
       "      <td>1.655410e+09</td>\n",
       "      <td>ingest-strive-applewatch-md.0</td>\n",
       "      <td>IPl2_ivn</td>\n",
       "      <td>e3dd146f74714135a11128e99f1557f0</td>\n",
       "      <td>{'name': 'Duration', 'description': 'Durations...</td>\n",
       "      <td>1.655103e+09</td>\n",
       "      <td>1.655146e+09</td>\n",
       "      <td>{'category': 'symptom', 'severity': 'all', 'me...</td>\n",
       "      <td>symptom</td>\n",
       "      <td>all</td>\n",
       "      <td>tremor</td>\n",
       "      <td>183bcc1a06cf729db3aa36937fd509124229f1422a14bf...</td>\n",
       "    </tr>\n",
       "    <tr>\n",
       "      <th>1</th>\n",
       "      <td>1.668829e+09</td>\n",
       "      <td>ingest-strive-applewatch-md.0</td>\n",
       "      <td>LARICRKw</td>\n",
       "      <td>e3dd146f74714135a11128e99f1557f0</td>\n",
       "      <td>{'name': 'Duration', 'description': 'Durations...</td>\n",
       "      <td>1.668225e+09</td>\n",
       "      <td>1.693247e+09</td>\n",
       "      <td>{'category': 'symptom', 'severity': 'all', 'me...</td>\n",
       "      <td>symptom</td>\n",
       "      <td>all</td>\n",
       "      <td>tremor</td>\n",
       "      <td>83257a46c877b96f4c639d2d3961401baf27d50b69f777...</td>\n",
       "    </tr>\n",
       "    <tr>\n",
       "      <th>2</th>\n",
       "      <td>1.655409e+09</td>\n",
       "      <td>ingest-strive-applewatch-md.0</td>\n",
       "      <td>YLoNpWkC</td>\n",
       "      <td>e3dd146f74714135a11128e99f1557f0</td>\n",
       "      <td>{'name': 'Duration', 'description': 'Durations...</td>\n",
       "      <td>1.655103e+09</td>\n",
       "      <td>1.655121e+09</td>\n",
       "      <td>{'category': 'symptom', 'severity': 'all', 'me...</td>\n",
       "      <td>symptom</td>\n",
       "      <td>all</td>\n",
       "      <td>tremor</td>\n",
       "      <td>272a2741dbaf268074d5d46fb83614985d65a57f260296...</td>\n",
       "    </tr>\n",
       "  </tbody>\n",
       "</table>\n",
       "</div>"
      ],
      "text/plain": [
       "     created_at                      algorithm device_id  \\\n",
       "0  1.655410e+09  ingest-strive-applewatch-md.0  IPl2_ivn   \n",
       "1  1.668829e+09  ingest-strive-applewatch-md.0  LARICRKw   \n",
       "2  1.655409e+09  ingest-strive-applewatch-md.0  YLoNpWkC   \n",
       "\n",
       "                         patient_id  \\\n",
       "0  e3dd146f74714135a11128e99f1557f0   \n",
       "1  e3dd146f74714135a11128e99f1557f0   \n",
       "2  e3dd146f74714135a11128e99f1557f0   \n",
       "\n",
       "                                         stream_type      min_time  \\\n",
       "0  {'name': 'Duration', 'description': 'Durations...  1.655103e+09   \n",
       "1  {'name': 'Duration', 'description': 'Durations...  1.668225e+09   \n",
       "2  {'name': 'Duration', 'description': 'Durations...  1.655103e+09   \n",
       "\n",
       "       max_time                                         parameters category  \\\n",
       "0  1.655146e+09  {'category': 'symptom', 'severity': 'all', 'me...  symptom   \n",
       "1  1.693247e+09  {'category': 'symptom', 'severity': 'all', 'me...  symptom   \n",
       "2  1.655121e+09  {'category': 'symptom', 'severity': 'all', 'me...  symptom   \n",
       "\n",
       "  severity measurement                                                 id  \n",
       "0      all      tremor  183bcc1a06cf729db3aa36937fd509124229f1422a14bf...  \n",
       "1      all      tremor  83257a46c877b96f4c639d2d3961401baf27d50b69f777...  \n",
       "2      all      tremor  272a2741dbaf268074d5d46fb83614985d65a57f260296...  "
      ]
     },
     "execution_count": 10,
     "metadata": {},
     "output_type": "execute_result"
    }
   ],
   "source": [
    "# Query for specific tremor streams.\n",
    "tremor_metadata = get_patient_stream_metadata(patient_id=patient_id, algorithm='ingest-strive-applewatch-md.0', measurement='tremor', severity='all', stream_type_id='duration')\n",
    "tremor_metadata_df = tremor_metadata.to_dataframe()\n",
    "tremor_metadata_df"
   ]
  },
  {
   "cell_type": "markdown",
   "id": "4a170b31-0330-47c0-a758-7fcbf1d344dd",
   "metadata": {},
   "source": [
    "These streams came from different devices, in this case, different Apple Watches that the user had at different times.\n",
    "\n",
    "The availability representation of one of these streams only indicates when data was generated by one device. To find when data was generated by *any* watch, use the [get_batch_availability_dataframe()](https://runeq.readthedocs.io/en/latest/pages/resources.html#runeq.resources.stream_metadata.StreamMetadata.get_stream_availability_dataframe) function of the StreamMetadataSet object.\n",
    "\n",
    "Note that this function requires one additional parameter: `batch_operation`. The [API docs](https://docs.runelabs.io/stream/v2/#tag/multi-stream/paths/~1batch~1availability/get) explain this parameter, which can take on two possible values: `any` or `all`.\n",
    "\n",
    "* With the `any` operation (which is essentially a bitwise OR), a `1` will be returned for a bin if *any* stream has data during the associated time period.\n",
    "* With the `all` operation (which is essentially a bitwise AND), a `1` will be returned for a bin if *all* streams have data during the associated time period.\n",
    "\n",
    "Since we're looking for data from *any* watch, we'll use the *any* operation:"
   ]
  },
  {
   "cell_type": "code",
   "execution_count": 11,
   "id": "6f4ffd0e-a368-40fc-8631-a7e324918b8c",
   "metadata": {},
   "outputs": [
    {
     "data": {
      "text/html": [
       "<div>\n",
       "<style scoped>\n",
       "    .dataframe tbody tr th:only-of-type {\n",
       "        vertical-align: middle;\n",
       "    }\n",
       "\n",
       "    .dataframe tbody tr th {\n",
       "        vertical-align: top;\n",
       "    }\n",
       "\n",
       "    .dataframe thead th {\n",
       "        text-align: right;\n",
       "    }\n",
       "</style>\n",
       "<table border=\"1\" class=\"dataframe\">\n",
       "  <thead>\n",
       "    <tr style=\"text-align: right;\">\n",
       "      <th></th>\n",
       "      <th>time</th>\n",
       "      <th>availability</th>\n",
       "    </tr>\n",
       "  </thead>\n",
       "  <tbody>\n",
       "    <tr>\n",
       "      <th>0</th>\n",
       "      <td>2023-05-01T00:00:00Z</td>\n",
       "      <td>0</td>\n",
       "    </tr>\n",
       "    <tr>\n",
       "      <th>1</th>\n",
       "      <td>2023-05-02T00:00:00Z</td>\n",
       "      <td>0</td>\n",
       "    </tr>\n",
       "    <tr>\n",
       "      <th>2</th>\n",
       "      <td>2023-05-03T00:00:00Z</td>\n",
       "      <td>0</td>\n",
       "    </tr>\n",
       "    <tr>\n",
       "      <th>3</th>\n",
       "      <td>2023-05-04T00:00:00Z</td>\n",
       "      <td>0</td>\n",
       "    </tr>\n",
       "    <tr>\n",
       "      <th>4</th>\n",
       "      <td>2023-05-05T00:00:00Z</td>\n",
       "      <td>1</td>\n",
       "    </tr>\n",
       "  </tbody>\n",
       "</table>\n",
       "</div>"
      ],
      "text/plain": [
       "                   time  availability\n",
       "0  2023-05-01T00:00:00Z             0\n",
       "1  2023-05-02T00:00:00Z             0\n",
       "2  2023-05-03T00:00:00Z             0\n",
       "3  2023-05-04T00:00:00Z             0\n",
       "4  2023-05-05T00:00:00Z             1"
      ]
     },
     "execution_count": 11,
     "metadata": {},
     "output_type": "execute_result"
    }
   ],
   "source": [
    "# Pull the availability representation for the set of streams in the StreamMetadataSet.\n",
    "batch_tremor_availability = tremor_metadata.get_batch_availability_dataframe(\n",
    "    start_time=start_time,\n",
    "    end_time=end_time,\n",
    "    resolution=resolution,\n",
    "    batch_operation='any',\n",
    ")\n",
    "\n",
    "batch_tremor_availability.head()"
   ]
  },
  {
   "cell_type": "code",
   "execution_count": 12,
   "id": "d2b37267-f9b8-4cef-97b0-0593f186c877",
   "metadata": {},
   "outputs": [
    {
     "data": {
      "image/png": "[encoded data removed]",
      "text/plain": [
       "<Figure size 720x216 with 1 Axes>"
      ]
     },
     "metadata": {
      "needs_background": "light"
     },
     "output_type": "display_data"
    }
   ],
   "source": [
    "# Plot availability.\n",
    "plot_availability(batch_tremor_availability)"
   ]
  },
  {
   "cell_type": "markdown",
   "id": "97895f20-ae9c-4176-b79b-81c35ca53c54",
   "metadata": {},
   "source": [
    "In this case, the result is the same, because only one device was active during the queried time period.\n",
    "\n",
    "This functionality is also useful for data from a single device. For example, local field potential (LFP) data from a DBS device might be recorded using different settings at different times (e.g., center frequency, sensing electrodes). To find LFP data regardless of those settings, query without specifying them, and then pull the batch availability of the resulting StreamMetadataSet using the `any` operation."
   ]
  },
  {
   "cell_type": "markdown",
   "id": "816468f1-eb9f-45be-bfc5-aa708d3a774e",
   "metadata": {},
   "source": [
    "### Overlapping data\n",
    "\n",
    "One very useful application of the `all` operation is to find *overlapping* data. For example, it can be used to find times when both tremor and LFP data are available, so that relationships between the two can be analyzed.\n",
    "\n",
    "Here, we'll find overlapping tremor and step count data (which is gathered by Apple Health using the iPhone and Apple Watch):"
   ]
  },
  {
   "cell_type": "code",
   "execution_count": 13,
   "id": "613dc903-f1dc-4609-ab0c-f5d669e82002",
   "metadata": {},
   "outputs": [
    {
     "data": {
      "text/html": [
       "<div>\n",
       "<style scoped>\n",
       "    .dataframe tbody tr th:only-of-type {\n",
       "        vertical-align: middle;\n",
       "    }\n",
       "\n",
       "    .dataframe tbody tr th {\n",
       "        vertical-align: top;\n",
       "    }\n",
       "\n",
       "    .dataframe thead th {\n",
       "        text-align: right;\n",
       "    }\n",
       "</style>\n",
       "<table border=\"1\" class=\"dataframe\">\n",
       "  <thead>\n",
       "    <tr style=\"text-align: right;\">\n",
       "      <th></th>\n",
       "      <th>created_at</th>\n",
       "      <th>algorithm</th>\n",
       "      <th>device_id</th>\n",
       "      <th>patient_id</th>\n",
       "      <th>stream_type</th>\n",
       "      <th>min_time</th>\n",
       "      <th>max_time</th>\n",
       "      <th>parameters</th>\n",
       "      <th>category</th>\n",
       "      <th>hk_aggregation</th>\n",
       "      <th>measurement</th>\n",
       "      <th>function</th>\n",
       "      <th>id</th>\n",
       "      <th>severity</th>\n",
       "    </tr>\n",
       "  </thead>\n",
       "  <tbody>\n",
       "    <tr>\n",
       "      <th>0</th>\n",
       "      <td>1.700706e+09</td>\n",
       "      <td>ingest-strive-healthkit.1</td>\n",
       "      <td>g_kooa6y</td>\n",
       "      <td>e3dd146f74714135a11128e99f1557f0</td>\n",
       "      <td>{'name': 'Count', 'description': 'Count of eve...</td>\n",
       "      <td>1.684070e+09</td>\n",
       "      <td>1.685812e+09</td>\n",
       "      <td>{'category': 'motion', 'hk_aggregation': 'true...</td>\n",
       "      <td>motion</td>\n",
       "      <td>true</td>\n",
       "      <td>step_count</td>\n",
       "      <td>sum</td>\n",
       "      <td>f1e284ad80de034cd8d133f2dffdd87b603bd891c7cd6f...</td>\n",
       "      <td>NaN</td>\n",
       "    </tr>\n",
       "    <tr>\n",
       "      <th>1</th>\n",
       "      <td>1.668829e+09</td>\n",
       "      <td>ingest-strive-applewatch-md.0</td>\n",
       "      <td>LARICRKw</td>\n",
       "      <td>e3dd146f74714135a11128e99f1557f0</td>\n",
       "      <td>{'name': 'Duration', 'description': 'Durations...</td>\n",
       "      <td>1.668225e+09</td>\n",
       "      <td>1.693247e+09</td>\n",
       "      <td>{'category': 'symptom', 'severity': 'all', 'me...</td>\n",
       "      <td>symptom</td>\n",
       "      <td>NaN</td>\n",
       "      <td>tremor</td>\n",
       "      <td>NaN</td>\n",
       "      <td>83257a46c877b96f4c639d2d3961401baf27d50b69f777...</td>\n",
       "      <td>all</td>\n",
       "    </tr>\n",
       "  </tbody>\n",
       "</table>\n",
       "</div>"
      ],
      "text/plain": [
       "     created_at                      algorithm device_id  \\\n",
       "0  1.700706e+09      ingest-strive-healthkit.1  g_kooa6y   \n",
       "1  1.668829e+09  ingest-strive-applewatch-md.0  LARICRKw   \n",
       "\n",
       "                         patient_id  \\\n",
       "0  e3dd146f74714135a11128e99f1557f0   \n",
       "1  e3dd146f74714135a11128e99f1557f0   \n",
       "\n",
       "                                         stream_type      min_time  \\\n",
       "0  {'name': 'Count', 'description': 'Count of eve...  1.684070e+09   \n",
       "1  {'name': 'Duration', 'description': 'Durations...  1.668225e+09   \n",
       "\n",
       "       max_time                                         parameters category  \\\n",
       "0  1.685812e+09  {'category': 'motion', 'hk_aggregation': 'true...   motion   \n",
       "1  1.693247e+09  {'category': 'symptom', 'severity': 'all', 'me...  symptom   \n",
       "\n",
       "  hk_aggregation measurement function  \\\n",
       "0           true  step_count      sum   \n",
       "1            NaN      tremor      NaN   \n",
       "\n",
       "                                                  id severity  \n",
       "0  f1e284ad80de034cd8d133f2dffdd87b603bd891c7cd6f...      NaN  \n",
       "1  83257a46c877b96f4c639d2d3961401baf27d50b69f777...      all  "
      ]
     },
     "execution_count": 13,
     "metadata": {},
     "output_type": "execute_result"
    }
   ],
   "source": [
    "from runeq.resources.stream_metadata import StreamMetadataSet\n",
    "\n",
    "# Query for step count streams.\n",
    "step_count_metadata = get_patient_stream_metadata(patient_id=patient_id, algorithm='ingest-strive-healthkit.1', measurement='step_count', hk_aggregation='true')\n",
    "\n",
    "# Combine the stream metadata for both into one StreamMetadataSet.\n",
    "combined_metadata = StreamMetadataSet(step_count_metadata)\n",
    "combined_metadata.add(tremor_stream)\n",
    "combined_metadata.to_dataframe()"
   ]
  },
  {
   "cell_type": "markdown",
   "id": "6fe0c2c9-ab59-4d7d-90f9-cbab7839b0ac",
   "metadata": {},
   "source": [
    "A new StreamMetadataSet object was created from the step count metadata, and then the previously queried tremor stream was added to it, forming a combined set of streams.\n",
    "\n",
    "Now, the batch availability operation can be used on this combined set:"
   ]
  },
  {
   "cell_type": "code",
   "execution_count": 14,
   "id": "5f8446f4-ff0b-40cb-a1aa-210f483b103b",
   "metadata": {},
   "outputs": [
    {
     "data": {
      "image/png": "[encoded data removed]",
      "text/plain": [
       "<Figure size 720x216 with 1 Axes>"
      ]
     },
     "metadata": {
      "needs_background": "light"
     },
     "output_type": "display_data"
    }
   ],
   "source": [
    "# Pull the overlapping availability representation for the combined set of streams.\n",
    "overlapping_availability = combined_metadata.get_batch_availability_dataframe(\n",
    "    start_time=start_time,\n",
    "    end_time=end_time,\n",
    "    resolution=resolution,\n",
    "    batch_operation='all',\n",
    ")\n",
    "\n",
    "# Pull the availability representation for just the step count stream, for comparison.\n",
    "step_count_availability = step_count_metadata.get_batch_availability_dataframe(\n",
    "    start_time=start_time,\n",
    "    end_time=end_time,\n",
    "    resolution=resolution,\n",
    "    batch_operation='any',\n",
    ")\n",
    "\n",
    "# Combine dataframes by merging on the timestamps.\n",
    "combined_availability = tremor_availability.merge(step_count_availability, on='time', suffixes=('_tremor','_step_count'))\n",
    "combined_availability = combined_availability.merge(overlapping_availability, on='time')\n",
    "combined_availability = combined_availability.rename(columns={'availability': 'overlapping_availability'})\n",
    "\n",
    "# Visualize the result.\n",
    "plot_availability(combined_availability)"
   ]
  },
  {
   "cell_type": "markdown",
   "id": "d9de3546-7bcf-4435-9fb7-e0f5a070e0fd",
   "metadata": {},
   "source": [
    "Step count data is available for May 14-15, but no tremor data is available for those days. The only days with data of both types available are May 27-31.\n",
    "\n",
    "Again, this only indicates that there is at least one data point of each type during each day. It is possible (though unlikely) that these data are available at different times during a day. To investigate further, one could adjust the `resolution` parameter for increased precision. Because timestamps produced by different algorithms or devices are unlikely to match perfectly, finding overlap in the data itself would likely require a binning operation. The binning inherent in these availability representations is often a sufficient shortcut (depending on the desired resolution)."
   ]
  },
  {
   "cell_type": "markdown",
   "id": "949b657f-5592-4883-b572-5b37e14b231d",
   "metadata": {},
   "source": [
    "---\n",
    "\n",
    "This concludes the basic tutorials for exploring and pulling data from the Rube Labs platform using our API/SDK.\n",
    "\n",
    "For more examples focused on specific use cases, please see the list of available examples in the repository [README](README.md)."
   ]
  }
 ],
 "metadata": {
  "kernelspec": {
   "display_name": "Python 3 (ipykernel)",
   "language": "python",
   "name": "python3"
  },
  "language_info": {
   "codemirror_mode": {
    "name": "ipython",
    "version": 3
   },
   "file_extension": ".py",
   "mimetype": "text/x-python",
   "name": "python",
   "nbconvert_exporter": "python",
   "pygments_lexer": "ipython3",
   "version": "3.8.12"
  }
 },
 "nbformat": 4,
 "nbformat_minor": 5
}
